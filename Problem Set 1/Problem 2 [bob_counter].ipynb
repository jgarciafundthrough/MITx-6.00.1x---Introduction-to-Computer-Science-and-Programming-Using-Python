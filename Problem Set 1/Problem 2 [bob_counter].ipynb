{
 "cells": [
  {
   "cell_type": "code",
   "execution_count": 1,
   "metadata": {},
   "outputs": [
    {
     "name": "stdout",
     "output_type": "stream",
     "text": [
      "2\n"
     ]
    }
   ],
   "source": [
    "s = 'azcbobobegghakl'\n",
    "string_length = len(s)\n",
    "bob_count = 0\n",
    "\n",
    "for i in range (string_length):\n",
    "    test_string = s[i:i + 3]\n",
    "    if test_string == \"bob\":\n",
    "        bob_count += 1\n",
    "print(bob_count)"
   ]
  }
 ],
 "metadata": {
  "interpreter": {
   "hash": "f918a389cfb1822725345988ba26ec538ce543e63d03789edf296a199edf3308"
  },
  "kernelspec": {
   "display_name": "Python 3.10.1 ('env': venv)",
   "language": "python",
   "name": "python3"
  },
  "language_info": {
   "codemirror_mode": {
    "name": "ipython",
    "version": 3
   },
   "file_extension": ".py",
   "mimetype": "text/x-python",
   "name": "python",
   "nbconvert_exporter": "python",
   "pygments_lexer": "ipython3",
   "version": "3.10.1"
  },
  "orig_nbformat": 4
 },
 "nbformat": 4,
 "nbformat_minor": 2
}
