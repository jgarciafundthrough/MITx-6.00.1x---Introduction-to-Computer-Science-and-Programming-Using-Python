{
 "cells": [
  {
   "cell_type": "code",
   "execution_count": 1,
   "metadata": {},
   "outputs": [
    {
     "data": {
      "text/plain": [
       "9"
      ]
     },
     "execution_count": 1,
     "metadata": {},
     "output_type": "execute_result"
    }
   ],
   "source": [
    "def vowel_counter(s):\n",
    "    num_vowels = 0\n",
    "    for char in s:\n",
    "        if char in \"aeiouAEIOU\":\n",
    "            num_vowels = num_vowels + 1\n",
    "    return num_vowels\n",
    "\n",
    "s = \"Assignment 1 vowel counting test\"\n",
    "\n",
    "vowel_counter(s)"
   ]
  }
 ],
 "metadata": {
  "interpreter": {
   "hash": "f918a389cfb1822725345988ba26ec538ce543e63d03789edf296a199edf3308"
  },
  "kernelspec": {
   "display_name": "Python 3.10.1 ('env': venv)",
   "language": "python",
   "name": "python3"
  },
  "language_info": {
   "codemirror_mode": {
    "name": "ipython",
    "version": 3
   },
   "file_extension": ".py",
   "mimetype": "text/x-python",
   "name": "python",
   "nbconvert_exporter": "python",
   "pygments_lexer": "ipython3",
   "version": "3.10.1"
  },
  "orig_nbformat": 4
 },
 "nbformat": 4,
 "nbformat_minor": 2
}
