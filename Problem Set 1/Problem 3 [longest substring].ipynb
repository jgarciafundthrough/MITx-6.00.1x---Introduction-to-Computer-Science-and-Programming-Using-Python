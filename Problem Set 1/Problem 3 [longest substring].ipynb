{
 "cells": [
  {
   "cell_type": "code",
   "execution_count": 5,
   "metadata": {},
   "outputs": [
    {
     "name": "stdout",
     "output_type": "stream",
     "text": [
      "a\n",
      "z\n",
      "z\n",
      "c\n",
      "c\n",
      "b\n",
      "b\n",
      "o\n",
      "o\n",
      "b\n",
      "b\n",
      "o\n",
      "o\n",
      "b\n",
      "b\n",
      "e\n",
      "e\n",
      "g\n",
      "g\n",
      "g\n",
      "g\n",
      "h\n",
      "h\n",
      "a\n",
      "a\n",
      "k\n",
      "k\n",
      "l\n",
      "beggh\n"
     ]
    }
   ],
   "source": [
    "s = 'azcbobobegghakl'\n",
    "\n",
    "longest = [s[0],]  # make them lists so we can manipulate them (unlike strings)\n",
    "current = [s[0],]\n",
    "\n",
    "for letter in range(0, len(s) -1):\n",
    "    if s[letter + 1] >= s[letter]: #if the next letter is \"greater\" (comes after) current letter, append it to current running string\n",
    "        current.append(s[letter + 1])\n",
    "        if len(current) > len(longest): #if current running string is longer than the longest string, replace\n",
    "            longest = current\n",
    "    else:\n",
    "        current = [s[letter+1],]  # reset current if we break an alphabetical chain\n",
    "\n",
    "longest_string = ''.join(longest)  # turn out list back into a string\n",
    "print(longest_string)"
   ]
  }
 ],
 "metadata": {
  "interpreter": {
   "hash": "a3c75f214a81f4cc1ef73de5d7f89de8d449401498e86b1543952e20c2cb990f"
  },
  "kernelspec": {
   "display_name": "Python 3.10.1 ('env': venv)",
   "language": "python",
   "name": "python3"
  },
  "language_info": {
   "codemirror_mode": {
    "name": "ipython",
    "version": 3
   },
   "file_extension": ".py",
   "mimetype": "text/x-python",
   "name": "python",
   "nbconvert_exporter": "python",
   "pygments_lexer": "ipython3",
   "version": "3.10.1"
  },
  "orig_nbformat": 4
 },
 "nbformat": 4,
 "nbformat_minor": 2
}
