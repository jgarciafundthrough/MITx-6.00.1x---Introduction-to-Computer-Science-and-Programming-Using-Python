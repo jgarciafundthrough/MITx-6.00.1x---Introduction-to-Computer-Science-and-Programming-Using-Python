{
 "cells": [
  {
   "cell_type": "code",
   "execution_count": 4,
   "metadata": {},
   "outputs": [
    {
     "data": {
      "text/plain": [
       "304945.52344438306"
      ]
     },
     "execution_count": 4,
     "metadata": {},
     "output_type": "execute_result"
    }
   ],
   "source": [
    "#Function = area + perimiter^(2)\n",
    "#Rounded to 4 digits\n",
    "\n",
    "import math\n",
    "\n",
    "def polysum(n, s):\n",
    "    area = (0.25 * n * s**2) / (math.tan(math.pi/n))\n",
    "    perim = n * s\n",
    "    result = area + (perim**2)\n",
    "\n",
    "    return(round(result, 4))"
   ]
  }
 ],
 "metadata": {
  "interpreter": {
   "hash": "a3c75f214a81f4cc1ef73de5d7f89de8d449401498e86b1543952e20c2cb990f"
  },
  "kernelspec": {
   "display_name": "Python 3.10.1 ('env': venv)",
   "language": "python",
   "name": "python3"
  },
  "language_info": {
   "codemirror_mode": {
    "name": "ipython",
    "version": 3
   },
   "file_extension": ".py",
   "mimetype": "text/x-python",
   "name": "python",
   "nbconvert_exporter": "python",
   "pygments_lexer": "ipython3",
   "version": "3.10.1"
  },
  "orig_nbformat": 4
 },
 "nbformat": 4,
 "nbformat_minor": 2
}
