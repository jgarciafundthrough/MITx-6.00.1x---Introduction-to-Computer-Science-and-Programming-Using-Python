{
 "cells": [
  {
   "cell_type": "code",
   "execution_count": 1,
   "metadata": {},
   "outputs": [
    {
     "data": {
      "text/plain": [
       "'\\nPROBLEM STATEMENT\\n\\nWrite a program to calculate the credit card balance after one year if a person only pays the minimum monthly payment required by the credit card company each month.\\n\\nEVERYTHING ROUNDED TO 2 DECIMALS\\n\\nVariables Needed:\\n    balance - outstanding balance on credit card\\n    annualInterestRate - annual interest rate as decimal\\n    monthlyPaymentRate - minimum monthly payment rate as a decimal\\n\\n'"
      ]
     },
     "execution_count": 1,
     "metadata": {},
     "output_type": "execute_result"
    }
   ],
   "source": [
    "\"\"\"\n",
    "PROBLEM STATEMENT\n",
    "\n",
    "Write a program to calculate the credit card balance after one year if a person only pays the minimum monthly payment required by the credit card company each month.\n",
    "\n",
    "EVERYTHING ROUNDED TO 2 DECIMALS\n",
    "\n",
    "Variables Needed:\n",
    "    balance - outstanding balance on credit card\n",
    "    annualInterestRate - annual interest rate as decimal\n",
    "    monthlyPaymentRate - minimum monthly payment rate as a decimal\n",
    "\n",
    "\"\"\""
   ]
  },
  {
   "cell_type": "code",
   "execution_count": 22,
   "metadata": {},
   "outputs": [
    {
     "name": "stdout",
     "output_type": "stream",
     "text": [
      "Remaining balance: 361.61\n"
     ]
    }
   ],
   "source": [
    "#Test case 1:\n",
    "balance = 484\n",
    "annualInterestRate = 0.2\n",
    "monthlyPaymentRate = 0.04\n",
    "\n",
    "for i in range(12):\n",
    "    minimumPayment = round(balance * monthlyPaymentRate, 2)\n",
    "    unpaidBalance = balance - minimumPayment\n",
    "    balance = round(unpaidBalance + (annualInterestRate/12.0 * unpaidBalance), 2)\n",
    "    \n",
    "print(f\"Remaining balance: {balance}\")"
   ]
  }
 ],
 "metadata": {
  "interpreter": {
   "hash": "a3c75f214a81f4cc1ef73de5d7f89de8d449401498e86b1543952e20c2cb990f"
  },
  "kernelspec": {
   "display_name": "Python 3.10.1 ('env': venv)",
   "language": "python",
   "name": "python3"
  },
  "language_info": {
   "codemirror_mode": {
    "name": "ipython",
    "version": 3
   },
   "file_extension": ".py",
   "mimetype": "text/x-python",
   "name": "python",
   "nbconvert_exporter": "python",
   "pygments_lexer": "ipython3",
   "version": "3.10.1"
  },
  "orig_nbformat": 4
 },
 "nbformat": 4,
 "nbformat_minor": 2
}
