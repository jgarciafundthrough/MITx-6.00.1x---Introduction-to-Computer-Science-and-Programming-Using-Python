{
 "cells": [
  {
   "cell_type": "code",
   "execution_count": null,
   "metadata": {},
   "outputs": [],
   "source": [
    "\"\"\"\n",
    "Now write a program that calculates the minimum fixed monthly payment needed in order pay off a credit card balance\n",
    "within 12 months. By a fixed monthly payment, we mean a single number which does not change each month, but instead is\n",
    "a constant amount that will be paid each month.\n",
    "\n",
    "Variables needed:\n",
    "    balance - outstanding balance on credit card\n",
    "    annualInterestRate - annual interest rate as a decimal\n",
    "\"\"\""
   ]
  },
  {
   "cell_type": "code",
   "execution_count": 4,
   "metadata": {},
   "outputs": [
    {
     "name": "stdout",
     "output_type": "stream",
     "text": [
      "360.0\n"
     ]
    }
   ],
   "source": [
    "#Test case 1: \n",
    "#Result = Lowest Payment: 310\n",
    "\n",
    "balance = 3926\n",
    "annualInterestRate = 0.2\n",
    "monthlyInterestRate = 0.2/12\n",
    "lowest_payment = round(balance * (monthlyInterestRate * (1 + monthlyInterestRate)**12) / (((1 + monthlyInterestRate)**12) - 1), -1)\n",
    "\n",
    "print(lowest_payment)"
   ]
  }
 ],
 "metadata": {
  "interpreter": {
   "hash": "a3c75f214a81f4cc1ef73de5d7f89de8d449401498e86b1543952e20c2cb990f"
  },
  "kernelspec": {
   "display_name": "Python 3.10.1 ('env': venv)",
   "language": "python",
   "name": "python3"
  },
  "language_info": {
   "codemirror_mode": {
    "name": "ipython",
    "version": 3
   },
   "file_extension": ".py",
   "mimetype": "text/x-python",
   "name": "python",
   "nbconvert_exporter": "python",
   "pygments_lexer": "ipython3",
   "version": "3.10.1"
  },
  "orig_nbformat": 4
 },
 "nbformat": 4,
 "nbformat_minor": 2
}
